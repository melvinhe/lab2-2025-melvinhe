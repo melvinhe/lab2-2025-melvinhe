{
 "cells": [
  {
   "cell_type": "markdown",
   "id": "eadda431",
   "metadata": {},
   "source": [
    "# Lab 2\n",
    "\n",
    "In this lab, we will explore how caching and access order can affect the number\n",
    "of memory accesses for tensor programs."
   ]
  },
  {
   "cell_type": "code",
   "execution_count": 17,
   "id": "a388fab2",
   "metadata": {},
   "outputs": [
    {
     "name": "stdout",
     "output_type": "stream",
     "text": [
      "1.0: What is your name?\n",
      "\tMelvin He\n",
      "1.0: What is your email address?\n",
      "\tmelvin_he@brown.edu\n",
      "1.0: What is your Banner ID?\n",
      "\tB01717637\n"
     ]
    }
   ],
   "source": [
    "from loaders import *\n",
    "from copy import deepcopy\n",
    "import random\n",
    "import numpy as np\n",
    "from cache import Cache, CacheAssoc\n",
    "answer(\n",
    "    question='1.0',\n",
    "    subquestion=f'What is your name?',\n",
    "    answer= 'Melvin He',\n",
    "    required_type=str,\n",
    ")\n",
    "answer(\n",
    "    question='1.0',\n",
    "    subquestion=f'What is your email address?',\n",
    "    answer= 'melvin_he@brown.edu',\n",
    "    required_type=str,\n",
    ")\n",
    "answer(\n",
    "    question='1.0',\n",
    "    subquestion=f'What is your Banner ID?',\n",
    "    answer= 'B01717637',\n",
    "    required_type=str,\n",
    ")"
   ]
  },
  {
   "cell_type": "markdown",
   "id": "2ce20703-3cab-4abe-8c3e-267485a51a70",
   "metadata": {},
   "source": [
    "## Part 1: Cache Basics"
   ]
  },
  {
   "cell_type": "markdown",
   "id": "arranged-strand",
   "metadata": {},
   "source": [
    "## Matrix Multiplication and Memory Access Pattern\n",
    "\n",
    "We will check the memory access pattern for matrix multiplication. Consider this matrix multiplication:\n",
    "\n",
    "$$\n",
    "C_{m,n} = \\sum_k A_{m,k} \\times B_{k,n}\n",
    "$$\n",
    "\n",
    "Suppose our processor doesn't have a cache and directly loads operands from the main memory and stores the results back to the main memory. We want to count how many memory accesses are necessary to complete the computation, and estimate how much energy will be consumed for the memory accesses. "
   ]
  },
  {
   "cell_type": "code",
   "execution_count": 18,
   "id": "steady-experiment",
   "metadata": {},
   "outputs": [
    {
     "name": "stdout",
     "output_type": "stream",
     "text": [
      "[[1, 7, 8, 1], [4, 8, 8, 5], [3, 1, 9, 8], [6, 2, 4, 6]]\n",
      "[[1, 7, 3, 6], [7, 7, 5, 5], [8, 3, 5, 6], [3, 8, 4, 8]]\n",
      "[[117, 88, 82, 97], [139, 148, 112, 152], [106, 119, 91, 141], [70, 116, 72, 118]]\n"
     ]
    }
   ],
   "source": [
    "# Initialize values\n",
    "seed = 10\n",
    "random.seed(seed)\n",
    "\n",
    "M = 4\n",
    "K = 4\n",
    "N = 4\n",
    "\n",
    "# Matrix A (M x K)\n",
    "a_MK = []\n",
    "for m in range(M):\n",
    "    a_MK.append([random.randint(1, 9) for i in range(K)])\n",
    "\n",
    "\n",
    "# Matrix B (K x N)\n",
    "b_KN = []\n",
    "for k in range(K):\n",
    "    b_KN.append([random.randint(1, 9) for i in range(N)])\n",
    "    \n",
    "print(a_MK)\n",
    "print(b_KN)\n",
    "\n",
    "# ground truth for the result (M x N)\n",
    "c_MN = []\n",
    "for m in range(M):\n",
    "    temp = []\n",
    "    for n in range(N):\n",
    "        t = 0\n",
    "        for k in range(K):\n",
    "            t += a_MK[m][k] * b_KN[k][n]\n",
    "        temp.append(t)\n",
    "    c_MN.append(temp)\n",
    "print(c_MN)"
   ]
  },
  {
   "cell_type": "markdown",
   "id": "ethical-chorus",
   "metadata": {},
   "source": [
    "### Question 1\n",
    "\n",
    "How many memory reads are in the following loop nest? Break down the number of memory reads for each matrix (A, B, and C).\n",
    "\n",
    "How many memory writes are in the following loop nest? Assume there is no register for storing partial sums, and reading and writing intermediate results should also be considered. Break down the number of memory writes for each matrix (A, B, and C)."
   ]
  },
  {
   "cell_type": "code",
   "execution_count": 19,
   "id": "unavailable-morgan",
   "metadata": {},
   "outputs": [
    {
     "name": "stdout",
     "output_type": "stream",
     "text": [
      "True\n"
     ]
    }
   ],
   "source": [
    "# Loop nest for the matrix multiplication\n",
    "c = np.zeros((M, N))\n",
    "for m in range(M):\n",
    "    for n in range(N):\n",
    "        for k in range(K):\n",
    "            # load a\n",
    "            a = a_MK[m][k]\n",
    "\n",
    "            # load b\n",
    "            b = b_KN[k][n]\n",
    "\n",
    "            # compute partial sum\n",
    "            c[m][n] += a * b\n",
    "\n",
    "# Check the result\n",
    "print(np.all(c==np.asarray(c_MN)))"
   ]
  },
  {
   "cell_type": "code",
   "execution_count": 20,
   "id": "585aba0c-ebaa-4f36-9b4d-e510644d7f92",
   "metadata": {},
   "outputs": [
    {
     "name": "stdout",
     "output_type": "stream",
     "text": [
      "1.1: How many reads of A?\n",
      "\t64\n",
      "1.1: How many reads of B?\n",
      "\t64\n",
      "1.1: How many reads of C?\n",
      "\t64\n",
      "1.1: How many writes of A?\n",
      "\t0\n",
      "1.1: How many writes of B?\n",
      "\t0\n",
      "1.1: How many writes of C?\n",
      "\t64\n"
     ]
    }
   ],
   "source": [
    "answer(\n",
    "    question='1.1',\n",
    "    subquestion=f'How many reads of A?',\n",
    "    answer= 64,\n",
    "    required_type=int,\n",
    ")\n",
    "answer(\n",
    "    question='1.1',\n",
    "    subquestion=f'How many reads of B?',\n",
    "    answer= 64,\n",
    "    required_type=int,\n",
    ")\n",
    "answer(\n",
    "    question='1.1',\n",
    "    subquestion=f'How many reads of C?',\n",
    "    answer= 64,\n",
    "    required_type=int,\n",
    ")\n",
    "answer(\n",
    "    question='1.1',\n",
    "    subquestion=f'How many writes of A?',\n",
    "    answer= 0,\n",
    "    required_type=int,\n",
    ")\n",
    "answer(\n",
    "    question='1.1',\n",
    "    subquestion=f'How many writes of B?',\n",
    "    answer= 0,\n",
    "    required_type=int,\n",
    ")\n",
    "answer(\n",
    "    question='1.1',\n",
    "    subquestion=f'How many writes of C?',\n",
    "    answer= 64,\n",
    "    required_type=int,\n",
    ")"
   ]
  },
  {
   "cell_type": "markdown",
   "id": "spare-entertainment",
   "metadata": {},
   "source": [
    "## Direct Mapped Cache\n",
    "\n",
    "Suppose our processor uses a directed mapped cache. We want to count the number of cache hit and miss for both read and write operations. Assume all data within matrices are initially stored in the main memory in __row major__ order.  Matrices are stored in memory in alphabetical order relative to other matrices, with the first element of the A matrix having the lowest address.\n",
    "\n",
    "We are using two parameters when defining a cache: `log_size` and `words_per_line`. The total number of __words__ that a cache can store is $2^{log\\_size}$, and the number of words per line (block size) is `words_per_line`. For example, if a cache has `log_size=4`, and `words_per_line=2`, this cache can store total 16 words with block size of 2. We assume that our direct mapped cache uses write-through with no write allocation for store operations. "
   ]
  },
  {
   "cell_type": "code",
   "execution_count": 21,
   "id": "dressed-occasion",
   "metadata": {},
   "outputs": [],
   "source": [
    "def read_addr(addr, memory, cache):\n",
    "    val = memory[addr]\n",
    "    cache.load(addr)\n",
    "    return val\n",
    "    \n",
    "def write_addr(addr, memory, cache, val=0):\n",
    "    memory[addr] = val\n",
    "    cache.store(addr)"
   ]
  },
  {
   "cell_type": "markdown",
   "id": "focused-committee",
   "metadata": {},
   "source": [
    "### Question 2\n",
    "\n",
    "Modify the address that the processor has to request from memory for the read and write operations in the loop nest from Question 1.1."
   ]
  },
  {
   "cell_type": "code",
   "execution_count": 26,
   "id": "collect-necklace",
   "metadata": {},
   "outputs": [
    {
     "name": "stdout",
     "output_type": "stream",
     "text": [
      "1.2: Check if result is correct.\n",
      "\tTrue\n",
      "-------Cache A--------\n",
      "Cache Statistics:\n",
      "cache rd: 48\n",
      "cache wr: 0\n",
      "mem rd: 16\n",
      "mem wr: 0\n",
      "-------Cache B--------\n",
      "Cache Statistics:\n",
      "cache rd: 0\n",
      "cache wr: 0\n",
      "mem rd: 64\n",
      "mem wr: 0\n",
      "-------Cache C--------\n",
      "Cache Statistics:\n",
      "cache rd: 48\n",
      "cache wr: 64\n",
      "mem rd: 16\n",
      "mem wr: 64\n"
     ]
    }
   ],
   "source": [
    "# Define a main memory\n",
    "mem_log_size = 10\n",
    "memory = np.zeros(2**mem_log_size).astype(np.int32)\n",
    "memory[:M*K] = np.asarray(a_MK).flatten()\n",
    "memory[M*K:M*K+K*N] = np.asarray(b_KN).flatten()\n",
    "\n",
    "# Define a cache for each matrix (A, B, C)\n",
    "cache_a = Cache(log_size=3, words_per_line=1)\n",
    "cache_b = Cache(log_size=3, words_per_line=1)\n",
    "cache_c = Cache(log_size=3, words_per_line=1)\n",
    "\n",
    "# Loop nest for matrix multiplication\n",
    "for m in range(M):\n",
    "    for n in range(N):\n",
    "        for k in range(K):\n",
    "\n",
    "            # Your code: modify addr_a \n",
    "            addr_a = m * K + k\n",
    "            a = read_addr(addr_a, memory, cache_a)\n",
    "            \n",
    "            # Your code: modify addr_b\n",
    "            addr_b = M * K + k * N + n\n",
    "            b = read_addr(addr_b, memory, cache_b)\n",
    "            \n",
    "            # Your code: modify addr_c\n",
    "            addr_c = M * K + K * N + m * N + n\n",
    "            psum = read_addr(addr_c, memory, cache_c)\n",
    "            \n",
    "            # compute partial sum\n",
    "            psum += a * b\n",
    "            write_addr(addr_c, memory, cache_c, int(psum))\n",
    "\n",
    "# Check the result\n",
    "answer(  # DO NOT MODIFY\n",
    "    question='1.2',\n",
    "    subquestion=f'Check if result is correct.',\n",
    "    answer=bool(np.all(memory[M*K+K*N:M*K+K*N+M*N].reshape((M, N))==np.asarray(c_MN))),\n",
    "    required_type=bool,\n",
    ")\n",
    "\n",
    "\n",
    "# Print cache statistics\n",
    "print(\"-------Cache A--------\")\n",
    "cache_a.print_stats()\n",
    "print(\"-------Cache B--------\")\n",
    "cache_b.print_stats()\n",
    "print(\"-------Cache C--------\")\n",
    "cache_c.print_stats()"
   ]
  },
  {
   "cell_type": "markdown",
   "id": "moving-michigan",
   "metadata": {},
   "source": [
    "### Question 3\n",
    "\n",
    "Now, run the same loop nest using caches with the same size, but with different words per line (block size). Explain why the statistics for Cache A is different from the previous case. The modifications to the caches have already been provided for you."
   ]
  },
  {
   "cell_type": "code",
   "execution_count": 27,
   "id": "yellow-israeli",
   "metadata": {},
   "outputs": [
    {
     "name": "stdout",
     "output_type": "stream",
     "text": [
      "1.3: Check if result is correct.\n",
      "\tTrue\n",
      "-------Cache A--------\n",
      "Cache Statistics:\n",
      "cache rd: 56\n",
      "cache wr: 0\n",
      "mem rd: 8\n",
      "mem wr: 0\n",
      "-------Cache B--------\n",
      "Cache Statistics:\n",
      "cache rd: 0\n",
      "cache wr: 0\n",
      "mem rd: 64\n",
      "mem wr: 0\n",
      "-------Cache C--------\n",
      "Cache Statistics:\n",
      "cache rd: 56\n",
      "cache wr: 64\n",
      "mem rd: 8\n",
      "mem wr: 64\n"
     ]
    }
   ],
   "source": [
    "# Define a main memory\n",
    "mem_log_size = 10\n",
    "memory = np.zeros(2**mem_log_size).astype(np.int32)\n",
    "memory[:M*K] = np.asarray(a_MK).flatten()\n",
    "memory[M*K:M*K+K*N] = np.asarray(b_KN).flatten()\n",
    "\n",
    "# Define a cache for each matrix (A, B, C)\n",
    "cache_a = Cache(log_size=3, words_per_line=2)\n",
    "cache_b = Cache(log_size=3, words_per_line=2)\n",
    "cache_c = Cache(log_size=3, words_per_line=2)\n",
    "\n",
    "# Loop nest for matrix multiplication\n",
    "for m in range(M):\n",
    "    for n in range(N):\n",
    "        for k in range(K):\n",
    "\n",
    "            # Your code: modify addr_a \n",
    "            addr_a = m * K + k\n",
    "            a = read_addr(addr_a, memory, cache_a)\n",
    "            \n",
    "            # Your code: modify addr_b\n",
    "            addr_b = M * K + k * N + n\n",
    "            b = read_addr(addr_b, memory, cache_b)\n",
    "            \n",
    "            # Your code: modify addr_c\n",
    "            addr_c = M * K + K * N + m * N + n\n",
    "            psum = read_addr(addr_c, memory, cache_c)\n",
    "            \n",
    "            # compute partial sum\n",
    "            psum += a * b\n",
    "            write_addr(addr_c, memory, cache_c, int(psum))\n",
    "\n",
    "# Check the result\n",
    "answer(  # DO NOT MODIFY\n",
    "    question='1.3',\n",
    "    subquestion=f'Check if result is correct.',\n",
    "    answer=bool(np.all(memory[M*K+K*N:M*K+K*N+M*N].reshape((M, N))==np.asarray(c_MN))),\n",
    "    required_type=bool,\n",
    ")\n",
    "\n",
    "# Print cache statistics\n",
    "print(\"-------Cache A--------\")\n",
    "cache_a.print_stats()\n",
    "print(\"-------Cache B--------\")\n",
    "cache_b.print_stats()\n",
    "print(\"-------Cache C--------\")\n",
    "cache_c.print_stats()"
   ]
  },
  {
   "cell_type": "code",
   "execution_count": 28,
   "id": "770bff47-91c6-4c0f-8c2b-760dfd819a3d",
   "metadata": {},
   "outputs": [
    {
     "name": "stdout",
     "output_type": "stream",
     "text": [
      "1.3: The larger block size exploits _____ locality.\n",
      "\tspatial\n"
     ]
    }
   ],
   "source": [
    "answer(\n",
    "    question='1.3',\n",
    "    subquestion=\"The larger block size exploits _____ locality.\",\n",
    "    answer= 'spatial',\n",
    "    required_type=('spatial', 'temporal')\n",
    ")"
   ]
  },
  {
   "cell_type": "markdown",
   "id": "directed-champagne",
   "metadata": {},
   "source": [
    "### Question 4\n",
    "\n",
    "Suppose we store data of Matrix B (and only Matrix B) to the main memory in __column major__ order. Change the address that are requested by the processor, and explain the difference of the statistics for Cache B."
   ]
  },
  {
   "cell_type": "code",
   "execution_count": 29,
   "id": "speaking-career",
   "metadata": {},
   "outputs": [
    {
     "name": "stdout",
     "output_type": "stream",
     "text": [
      "1.4: Check if result is correct.\n",
      "\tTrue\n",
      "-------Cache A--------\n",
      "Cache Statistics:\n",
      "cache rd: 56\n",
      "cache wr: 0\n",
      "mem rd: 8\n",
      "mem wr: 0\n",
      "-------Cache B--------\n",
      "Cache Statistics:\n",
      "cache rd: 32\n",
      "cache wr: 0\n",
      "mem rd: 32\n",
      "mem wr: 0\n",
      "-------Cache C--------\n",
      "Cache Statistics:\n",
      "cache rd: 56\n",
      "cache wr: 64\n",
      "mem rd: 8\n",
      "mem wr: 64\n"
     ]
    }
   ],
   "source": [
    "mem_log_size = 10\n",
    "memory_col = np.zeros(2**mem_log_size).astype(np.int32)\n",
    "memory_col[:M*K] = np.asarray(a_MK).flatten()\n",
    "memory_col[M*K:M*K+K*N] = np.asarray(b_KN).transpose().flatten()\n",
    "\n",
    "# Define a cache for each matrix (A, B, C)\n",
    "cache_a = Cache(log_size=3, words_per_line=2)\n",
    "cache_b = Cache(log_size=3, words_per_line=2)\n",
    "cache_c = Cache(log_size=3, words_per_line=2)\n",
    "\n",
    "# Loop nest for matrix multiplication\n",
    "for m in range(M):\n",
    "    for n in range(N):\n",
    "        for k in range(K):\n",
    "\n",
    "            # Your code: modify addr_a \n",
    "            addr_a = m * K + k\n",
    "            a = read_addr(addr_a, memory_col, cache_a)\n",
    "            \n",
    "            # Your code: modify addr_b\n",
    "            addr_b = M * K + n * K + k\n",
    "            b = read_addr(addr_b, memory_col, cache_b)\n",
    "            \n",
    "            # Your code: modify addr_c\n",
    "            addr_c = M * K + K * N + m * N + n\n",
    "            psum = read_addr(addr_c, memory_col, cache_c)\n",
    "            \n",
    "            # compute partial sum\n",
    "            psum += a * b\n",
    "            write_addr(addr_c, memory_col, cache_c, int(psum))\n",
    "\n",
    "# Check the result\n",
    "answer(  # DO NOT MODIFY\n",
    "    question='1.4',\n",
    "    subquestion=f'Check if result is correct.',\n",
    "    answer=bool(np.all(memory[M*K+K*N:M*K+K*N+M*N].reshape((M, N))==np.asarray(c_MN))),\n",
    "    required_type=bool,\n",
    ")\n",
    "\n",
    "# Print cache statistics\n",
    "print(\"-------Cache A--------\")\n",
    "cache_a.print_stats()\n",
    "print(\"-------Cache B--------\")\n",
    "cache_b.print_stats()\n",
    "print(\"-------Cache C--------\")\n",
    "cache_c.print_stats()"
   ]
  },
  {
   "cell_type": "code",
   "execution_count": 30,
   "id": "02cd35a7-2128-4273-b40e-983f0f75c4ab",
   "metadata": {},
   "outputs": [
    {
     "name": "stdout",
     "output_type": "stream",
     "text": [
      "1.4: Arranging B in column-major order creates _____ locality in the access pattern of B.\n",
      "\tspatial\n",
      "1.4: The traversal pattern due to the M, N, K loop nest is ____ with the row-major format of B.\n",
      "\tdiscordant\n",
      "1.4: The traversal pattern due to the M, N, K loop nest is ____ with the column-major format of B. Answer with 'discordant' or 'concordant'\n",
      "\tconcordant\n"
     ]
    }
   ],
   "source": [
    "answer(\n",
    "    question='1.4',\n",
    "    subquestion=\"Arranging B in column-major order creates _____ locality in the access pattern of B.\",\n",
    "    answer= 'spatial',\n",
    "    required_type=('spatial', 'temporal')\n",
    ")\n",
    "\n",
    "answer(\n",
    "    question='1.4',\n",
    "    subquestion=\"The traversal pattern due to the M, N, K loop nest is ____ with the row-major format of B.\",\n",
    "    answer= 'discordant',\n",
    "    required_type=('discordant', 'concordant')\n",
    ")\n",
    "\n",
    "answer(\n",
    "    question='1.4',\n",
    "    subquestion=\"The traversal pattern due to the M, N, K loop nest is ____ with the column-major format of B. Answer with 'discordant' or 'concordant'\",\n",
    "    answer= 'concordant',\n",
    "    required_type=('discordant', 'concordant')\n",
    ")"
   ]
  },
  {
   "cell_type": "markdown",
   "id": "phantom-commodity",
   "metadata": {},
   "source": [
    "### Question 5\n",
    "\n",
    "Suppose our loop nest order is different, from M -> N -> K to K -> N -> M.\n",
    "Assume all conditions are identical to those in Question 2. Explain cache\n",
    "statistics compared to those in Question 2.\n",
    "\n",
    "\n",
    "For this lab, consider the following three types of cache misses.\n",
    "\n",
    "| Miss type | Description |\n",
    "| --------- | ----------- |\n",
    "| Compulsory miss | The first access to any data will be a miss. |\n",
    "| Capacity miss   | When the accessed data has already been fetched but also evicted due to insufficient cache capacity. |\n",
    "| Conflict miss   | When the accessed data has already been fetched but also evicted due to another data mapped to the same cache line. |"
   ]
  },
  {
   "cell_type": "code",
   "execution_count": 31,
   "id": "modified-workshop",
   "metadata": {},
   "outputs": [
    {
     "name": "stdout",
     "output_type": "stream",
     "text": [
      "1.5: Check if result is correct.\n",
      "\tTrue\n",
      "-------Cache A--------\n",
      "Cache Statistics:\n",
      "cache rd: 0\n",
      "cache wr: 0\n",
      "mem rd: 64\n",
      "mem wr: 0\n",
      "-------Cache B--------\n",
      "Cache Statistics:\n",
      "cache rd: 48\n",
      "cache wr: 0\n",
      "mem rd: 16\n",
      "mem wr: 0\n",
      "-------Cache C--------\n",
      "Cache Statistics:\n",
      "cache rd: 0\n",
      "cache wr: 64\n",
      "mem rd: 64\n",
      "mem wr: 64\n"
     ]
    }
   ],
   "source": [
    "mem_log_size = 10\n",
    "memory = np.zeros(2**mem_log_size).astype(np.int32)\n",
    "memory[:M*K] = np.asarray(a_MK).flatten()\n",
    "memory[M*K:M*K+K*N] = np.asarray(b_KN).flatten()\n",
    "\n",
    "# Define a cache for each matrix (A, B, C)\n",
    "cache_a = Cache(log_size=3, words_per_line=1)\n",
    "cache_b = Cache(log_size=3, words_per_line=1)\n",
    "cache_c = Cache(log_size=3, words_per_line=1)\n",
    "\n",
    "for k in range(K):\n",
    "    for n in range(N):\n",
    "        for m in range(M):\n",
    "            # Your code: modify addr_a \n",
    "            addr_a = m * K + k\n",
    "            a = read_addr(addr_a, memory, cache_a)\n",
    "            \n",
    "            # Your code: modify addr_a \n",
    "            addr_b = M * K + k * N + n\n",
    "            b = read_addr(addr_b, memory, cache_b)\n",
    "            \n",
    "            # Your code: modify addr_a \n",
    "            addr_c = M * K + K * N + m * N + n\n",
    "            psum = read_addr(addr_c, memory, cache_c)\n",
    "\n",
    "            # compute partial sum\n",
    "            psum += a * b\n",
    "            write_addr(addr_c, memory, cache_c, int(psum))\n",
    "\n",
    "\n",
    "# Check the result\n",
    "answer(  # DO NOT MODIFY\n",
    "    question='1.5',\n",
    "    subquestion=f'Check if result is correct.',\n",
    "    answer=bool(np.all(memory[M*K+K*N:M*K+K*N+M*N].reshape((M, N))==np.asarray(c_MN))),\n",
    "    required_type=bool,\n",
    ")\n",
    "\n",
    "# Print cache statistics\n",
    "print(\"-------Cache A--------\")\n",
    "cache_a.print_stats()\n",
    "print(\"-------Cache B--------\")\n",
    "cache_b.print_stats()\n",
    "print(\"-------Cache C--------\")\n",
    "cache_c.print_stats()"
   ]
  },
  {
   "cell_type": "code",
   "execution_count": 32,
   "id": "a5fa4c61-363c-404b-81ca-cac5e75acc32",
   "metadata": {},
   "outputs": [
    {
     "name": "stdout",
     "output_type": "stream",
     "text": [
      "1.5: Does the cache for tensor A have (1) compulsory, (2) capacity, and (3) conflict misses? Please write your answer (True/False in Python) in order as a list (e.g., [True, False, True]).\n",
      "\t[True, False, False]\n",
      "1.5: Does the cache for tensor B have (1) compulsory, (2) capacity, and (3) conflict misses? Please write your answer (True/False in Python) in order as a list (e.g., [True, False, True]).\n",
      "\t[True, False, True]\n",
      "1.5: Does the cache for tensor C have conflict misses? Please write your answer (True/False in Python).\n",
      "\tTrue\n",
      "1.5: Assume for this subquestion that address conflicts can be completely avoided by adding some mechanism in the cache for tensor C, would there still be (1) compulsory and (2) capacity misses? Please write your answer (True/False in Python) in order as a list (e.g., [False, True]).\n",
      "\t[True, False]\n"
     ]
    }
   ],
   "source": [
    "answer(\n",
    "    question='1.5',\n",
    "    subquestion=\"Does the cache for tensor A have (1) compulsory, (2) capacity, and (3) conflict misses? Please write your answer (True/False in Python) in order as a list (e.g., [True, False, True]).\",\n",
    "    answer= [True, False, False], # Answer here\n",
    "    required_type=[bool, bool, bool],\n",
    ")\n",
    "answer(\n",
    "    question='1.5',\n",
    "    subquestion=\"Does the cache for tensor B have (1) compulsory, (2) capacity, and (3) conflict misses? Please write your answer (True/False in Python) in order as a list (e.g., [True, False, True]).\",\n",
    "    answer= [True, False, True], # Answer here\n",
    "    required_type=[bool, bool, bool],\n",
    ")\n",
    "answer(\n",
    "    question='1.5',\n",
    "    subquestion=\"Does the cache for tensor C have conflict misses? Please write your answer (True/False in Python).\",\n",
    "    answer= True,\n",
    "    required_type=bool,\n",
    ")\n",
    "answer(\n",
    "    question='1.5',\n",
    "    subquestion=\"Assume for this subquestion that address conflicts can be completely avoided by adding some mechanism in the cache for tensor C, would there still be (1) compulsory and (2) capacity misses? Please write your answer (True/False in Python) in order as a list (e.g., [False, True]).\",\n",
    "    answer= [True, False], # Answer here\n",
    "    required_type=[bool, bool],\n",
    ")"
   ]
  },
  {
   "cell_type": "markdown",
   "id": "agricultural-question",
   "metadata": {},
   "source": [
    "## Set Associative Cache\n",
    "\n",
    "In previous questions, we considered using one cahce per tensor. Now, we will see what happens if we use only one cache for all tensors (Question 6). You should see that the number of misses increase.\n",
    "\n",
    "Then, we will use a set-associative cache to reduce misses (Question 7). This cache has another parameter, `num_ways`, that specifies the number of ways. For example, if `log_size=4`, `words_per_line=2`, and `num_ways=2`, this cache can store total 16 words and there are total 4 sets, where each set has two ways and the block size will be two. Similar to the direct mapped cache we discussed above, our set associative cache uses write-through with no write allocation for store, and uses Bit Pseudo Least Recently Used to replace cache entries."
   ]
  },
  {
   "cell_type": "markdown",
   "id": "simple-marine",
   "metadata": {},
   "source": [
    "### Question 6\n",
    "\n",
    "Let's run the same loop nest as in Question 2, except for that we use one large cache instead of using three different caches for each matrix. Note that we are still using a direct mapped cache here."
   ]
  },
  {
   "cell_type": "code",
   "execution_count": 33,
   "id": "hundred-rings",
   "metadata": {},
   "outputs": [
    {
     "name": "stdout",
     "output_type": "stream",
     "text": [
      "1.6: Check if result is correct.\n",
      "\tTrue\n",
      "-------Cache--------\n",
      "Cache Statistics:\n",
      "cache rd: 108\n",
      "cache wr: 64\n",
      "mem rd: 84\n",
      "mem wr: 64\n"
     ]
    }
   ],
   "source": [
    "# Define a main memory\n",
    "mem_log_size = 10\n",
    "memory = np.zeros(2**mem_log_size).astype(np.int32)\n",
    "memory[:M*K] = np.asarray(a_MK).flatten()\n",
    "memory[M*K:M*K+K*N] = np.asarray(b_KN).flatten()\n",
    "\n",
    "# Define a cache for each matrix (A, B, C)\n",
    "cache = Cache(log_size=5, words_per_line=2)\n",
    "\n",
    "# Loop nest for matrix multiplication\n",
    "for m in range(M):\n",
    "    for n in range(N):\n",
    "        for k in range(K):\n",
    "\n",
    "            # Your code: modify addr_a \n",
    "            addr_a = m * K + k\n",
    "            a = read_addr(addr_a, memory, cache)\n",
    "            \n",
    "            # Your code: modify addr_b\n",
    "            addr_b = M * K + k * N + n\n",
    "            b = read_addr(addr_b, memory, cache)\n",
    "            \n",
    "            # Your code: modify addr_c\n",
    "            addr_c = M * K + K * N + m * N + n\n",
    "            psum = read_addr(addr_c, memory, cache)\n",
    "            \n",
    "            # compute partial sum\n",
    "            psum += a * b\n",
    "            write_addr(addr_c, memory, cache, int(psum))\n",
    "            \n",
    "            # debug\n",
    "            # print(\"---------------------\")\n",
    "            # print(addr_a, addr_b, addr_c)\n",
    "\n",
    "# Check the result\n",
    "answer(  # DO NOT MODIFY\n",
    "    question='1.6',\n",
    "    subquestion=f'Check if result is correct.',\n",
    "    answer=bool(np.all(memory[M*K+K*N:M*K+K*N+M*N].reshape((M, N))==np.asarray(c_MN))),\n",
    "    required_type=bool,\n",
    ")\n",
    "\n",
    "# Print cache statistics\n",
    "print(\"-------Cache--------\")\n",
    "cache.print_stats()"
   ]
  },
  {
   "cell_type": "code",
   "execution_count": 34,
   "id": "b13f9ba4-88e7-4110-bdfe-9ffab0549454",
   "metadata": {},
   "outputs": [
    {
     "name": "stdout",
     "output_type": "stream",
     "text": [
      "1.6: Compared to using three separate caches, the number of misses has increased. This increase is due to more ___ misses.\n",
      "\tconflict\n"
     ]
    }
   ],
   "source": [
    "answer(\n",
    "    question='1.6',\n",
    "    subquestion=\"Compared to using three separate caches, the number of misses has increased. This increase is due to more ___ misses.\",\n",
    "    answer= 'conflict',\n",
    "    required_type=('compulsory', 'conflict', 'capacity')\n",
    ")"
   ]
  },
  {
   "cell_type": "markdown",
   "id": "piano-flood",
   "metadata": {},
   "source": [
    "### Question 7\n",
    "\n",
    "Observe the cache access pattern when we now use a set associative cache with 2 ways. Explain the difference compared to Question 6."
   ]
  },
  {
   "cell_type": "code",
   "execution_count": 36,
   "id": "acceptable-terrorist",
   "metadata": {},
   "outputs": [
    {
     "name": "stdout",
     "output_type": "stream",
     "text": [
      "1.7: Check if result is correct.\n",
      "\tTrue\n",
      "-------Cache--------\n",
      "Cache Statistics:\n",
      "cache rd: 126\n",
      "cache wr: 64\n",
      "mem rd: 66\n",
      "mem wr: 64\n"
     ]
    }
   ],
   "source": [
    "# Define a main memory\n",
    "mem_log_size = 10\n",
    "memory = np.zeros(2**mem_log_size).astype(np.int32)\n",
    "memory[:M*K] = np.asarray(a_MK).flatten()\n",
    "memory[M*K:M*K+K*N] = np.asarray(b_KN).flatten()\n",
    "\n",
    "# Define a cache for each matrix (A, B, C)\n",
    "cache = CacheAssoc(log_size=5, words_per_line=2, num_ways=2)\n",
    "\n",
    "# Loop nest for matrix multiplication\n",
    "for m in range(M):\n",
    "    for n in range(N):\n",
    "        for k in range(K):\n",
    "\n",
    "            # Your code: modify addr_a \n",
    "            addr_a = m * K + k\n",
    "            a = read_addr(addr_a, memory, cache)\n",
    "            \n",
    "            # Your code: modify addr_b\n",
    "            addr_b = M * K + k * N + n\n",
    "            b = read_addr(addr_b, memory, cache)\n",
    "            \n",
    "            # Your code: modify addr_c\n",
    "            addr_c = M * K + K * N + m * N + n\n",
    "            psum = read_addr(addr_c, memory, cache)\n",
    "            \n",
    "            # compute partial sum\n",
    "            psum += a * b\n",
    "            write_addr(addr_c, memory, cache, int(psum))\n",
    "            \n",
    "            # debug\n",
    "            # print(\"---------------------\")\n",
    "            # print(addr_a, addr_b, addr_c)\n",
    "\n",
    "# Check the result\n",
    "answer(  # DO NOT MODIFY\n",
    "    question='1.7',\n",
    "    subquestion=f'Check if result is correct.',\n",
    "    answer=bool(np.all(memory[M*K+K*N:M*K+K*N+M*N].reshape((M, N))==np.asarray(c_MN))),\n",
    "    required_type=bool,\n",
    ")\n",
    "\n",
    "# Print cache statistics\n",
    "print(\"-------Cache--------\")\n",
    "cache.print_stats()"
   ]
  },
  {
   "cell_type": "code",
   "execution_count": 37,
   "id": "0fd3a5ac-88b8-425f-9623-b5394a7d256e",
   "metadata": {},
   "outputs": [
    {
     "name": "stdout",
     "output_type": "stream",
     "text": [
      "1.7: Compared to using one cache, the set-associative cache reduces misses.\n",
      "\tTrue\n",
      "1.7: Set-associative caches are beneficial for reducing _____ misses.\n",
      "\tconflict\n"
     ]
    }
   ],
   "source": [
    "answer(\n",
    "    question='1.7',\n",
    "    subquestion=\"Compared to using one cache, the set-associative cache reduces misses.\",\n",
    "    answer= True,\n",
    "    required_type=bool,\n",
    ")\n",
    "\n",
    "answer(\n",
    "    question='1.7',\n",
    "    subquestion=\"Set-associative caches are beneficial for reducing _____ misses.\",\n",
    "    answer= 'conflict',\n",
    "    required_type=('compulsory', 'conflict', 'capacity'),\n",
    ")"
   ]
  },
  {
   "cell_type": "markdown",
   "id": "2a5ac51f-4e20-4b6d-9f8a-b8345ae0620f",
   "metadata": {},
   "source": [
    "## Important Takeaways\n",
    "\n",
    "Set-associative caches can reduce certain types of misses compared to direct-mapped caches. However, as you have seen, those misses can also be avoided by co-designing the data layout (e.g., row-major or column-major), the dataflow (the loop order), and the cache design. Finally, note that set-associative caches come with extra overhead since tag matches must be performed for all associativity."
   ]
  }
 ],
 "metadata": {
  "kernelspec": {
   "display_name": "Python 3 (ipykernel)",
   "language": "python",
   "name": "python3"
  },
  "language_info": {
   "codemirror_mode": {
    "name": "ipython",
    "version": 3
   },
   "file_extension": ".py",
   "mimetype": "text/x-python",
   "name": "python",
   "nbconvert_exporter": "python",
   "pygments_lexer": "ipython3",
   "version": "3.10.12"
  }
 },
 "nbformat": 4,
 "nbformat_minor": 5
}
